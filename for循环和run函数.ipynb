{
 "cells": [
  {
   "cell_type": "markdown",
   "metadata": {},
   "source": [
    "# for循环"
   ]
  },
  {
   "cell_type": "code",
   "execution_count": 3,
   "metadata": {},
   "outputs": [
    {
     "name": "stdout",
     "output_type": "stream",
     "text": [
      "Hello,Machine Learning!\n",
      "Hello,Machine Learning!\n",
      "Hello,Machine Learning!\n",
      "Hello,Machine Learning!\n",
      "Hello,Machine Learning!\n"
     ]
    }
   ],
   "source": [
    "for _ in range(5):#下划线本身就是合法变量\n",
    "    print(\"Hello,Machine Learning!\")"
   ]
  },
  {
   "cell_type": "markdown",
   "metadata": {},
   "source": [
    "# run函数"
   ]
  },
  {
   "cell_type": "code",
   "execution_count": 2,
   "metadata": {},
   "outputs": [
    {
     "name": "stdout",
     "output_type": "stream",
     "text": [
      "20 125 4 3\n",
      "work\"oxox\n",
      "bangge\n",
      "bangge\n",
      "bangge\n",
      "first\n",
      "firstsdkjdhjksh\n",
      "first kdjsk\n",
      "firstfirstfirst\n",
      "second\n",
      "虚幻大学\n",
      "4\n",
      "jksjldjls\n",
      "9\n",
      "3\n",
      "3\n",
      "[0, 8, 23, 24, 30]\n",
      "24\n",
      "[0, 8, 23]\n",
      "[23, 24, 30]\n",
      "[0, 11, 23, 24, 30]\n",
      "[0, 11, 23, 24, 30, 13]\n",
      "[0, 11, 23, 24, 30, 13]\n",
      "[0, 11, 23, 24, 30, 90]\n",
      "[0, 0, 23, 24, 30, 90]\n",
      "[23, 24, 30, 90]\n",
      "[]\n",
      "\n",
      "你好世界\n",
      "你好美国\n",
      "你好中国\n",
      "djksljdls,123jkldjflkj\n",
      "你好德国\n",
      "djlsjdljslk jlksdjklsjl\n",
      "djlsjdljslkjlksdjklsjl\n",
      "hello\n",
      "runoob\n"
     ]
    }
   ],
   "source": [
    "%run F:\\PyCharmE\\虚幻大学\\Caption1\n",
    "    "
   ]
  }
 ],
 "metadata": {
  "kernelspec": {
   "display_name": "Python 3",
   "language": "python",
   "name": "python3"
  },
  "language_info": {
   "codemirror_mode": {
    "name": "ipython",
    "version": 3
   },
   "file_extension": ".py",
   "mimetype": "text/x-python",
   "name": "python",
   "nbconvert_exporter": "python",
   "pygments_lexer": "ipython3",
   "version": "3.6.5"
  }
 },
 "nbformat": 4,
 "nbformat_minor": 2
}
